{
 "cells": [
  {
   "cell_type": "markdown",
   "metadata": {},
   "source": [
    "## Exercises\n",
    "### Write the pseudocode for these problems. \n",
    "\n",
    "#### Define the problem by constructing an IPO diagram showing input, output, and processing steps\n",
    "Ask yourself\n",
    "- What control structures (sequence, selection and repetition) are required?\n",
    "- What variables are required?\n",
    "\n",
    "Show a check of your solution with **test data** for at least **two valid test cases**\n",
    "If you use the numbers provided in the example then the correct pseudocode will calculate the same result.\n",
    "    "
   ]
  },
  {
   "cell_type": "markdown",
   "metadata": {},
   "source": [
    "#### 1. Find the average score\n",
    "A program is needed to prompt the user operator for exam scores, calculate the average score and display the result to the screen. The average score is calculated as the sum of the scores divided by the number of scores."
   ]
  },
  {
   "cell_type": "markdown",
   "metadata": {},
   "source": [
    "Type Markdown and LaTeX:  𝛼2"
   ]
  },
  {
   "cell_type": "markdown",
   "metadata": {},
   "source": [
    "Process:<br\\>\n",
    "    Begin<br\\>\n",
    "        Set counter to 1 and sum to 0<br\\>\n",
    "        Loop counter <= the number of scores<br\\>\n",
    "            Prompt users for a number<br\\>\n",
    "            Get the number<br\\>\n",
    "            Add the number to sum<br\\>\n",
    "            Add 1 to counter<br\\>\n",
    "        EndLoop<br\\>\n",
    "    Endloop<br\\>\n",
    "        averageScore= the sum/ the counter<br\\>\n",
    "Output: Print the averageScore<br\\>"
   ]
  },
  {
   "cell_type": "markdown",
   "metadata": {},
   "source": [
    "#### 2. How much water runs off a roof in a rain storm?\n",
    "To calculate the runoff from any given rainfall: Take the dimensions of the footprint of the roof and convert them to inches. (So, a 50' x 20' roof is 600\" x 240\"). Multiply the roof dimensions by the number of inches of rainfall. As an example, 600\" x 240\" x 1\" = 144,000 cubic inches of water for an inch of rainfall. Divide that result by 231 to get the number of gallons (because 1 gallon = 231 cubic inches). (144,000/231 = 623.38)."
   ]
  },
  {
   "cell_type": "markdown",
   "metadata": {},
   "source": [
    "Type Markdown and LaTeX:  𝛼2"
   ]
  },
  {
   "cell_type": "markdown",
   "metadata": {},
   "source": [
    "Input: Input length and width of the roof<br\\>\n",
    "\n",
    "Process:<br\\>\n",
    "    Converse the length and roof from feet to inches<br\\>\n",
    "    Roof dimensions= length in inches * width in inches<br\\>\n",
    "    Prompt users for the number of inches of rainfal<br\\>\n",
    "    Get the number<br\\>\n",
    "    runoff in inches= Roof dimensions* rainfal<br\\>\n",
    "    runoff in gallons= runoff in inches/ 231<br\\>\n",
    "    \n",
    "Output: Print the runoff in gallons<br\\>\n"
   ]
  },
  {
   "cell_type": "markdown",
   "metadata": {},
   "source": [
    "#### 3. Process customer record\n",
    "A program is required to read a customer’s name, a purchase amount and a tax code. The tax code has been validated and will be one of the following: 0 tax exempt (0%) 1 state sales tax only (3%) 2 federal and state sales tax (5%) 3 special sales tax (7%) The program must then compute the sales tax and the total amount due,and print the customer’s name, purchase amount, sales tax and total amount due."
   ]
  },
  {
   "cell_type": "markdown",
   "metadata": {},
   "source": [
    "Type Markdown and LaTeX:  𝛼2"
   ]
  },
  {
   "cell_type": "markdown",
   "metadata": {},
   "source": [
    "Input: Input users' names, a purchase amount, and a tax code.<br\\>\n",
    "\n",
    "Process:<br\\>\n",
    "    Initilize code0= 0, code1= 0.03, code2=0.05, code3=0.07<br\\>\n",
    "    SalesTax= purchase amout * code<br\\>\n",
    "    Total amount= purchase amount + salesTax<br\\>\n",
    "\n",
    "Output: Print the user's name, purchase amount, salesTax, and total amount<br\\>\n"
   ]
  },
  {
   "cell_type": "markdown",
   "metadata": {},
   "source": [
    "#### 4. Calculate employee's pay \n",
    "A program is required by a company to read an employee’s number, pay rate and the number of hours worked in a week. The program is then to validate the pay rate field and the hours worked field and, if valid, compute the employee’s weekly pay and then print it and the input data.\n",
    "\n",
    "Validation: According to the company’s rules, the maximum hours an employee can work per week is 60 hours, and the maximum hourly rate is $25.00 per hour. If the hours worked field or the hourly rate field is out of range, the input data and an appropriate message are to be printed and the employee’s weekly pay is not to be calculated.\n",
    "\n",
    "Weekly pay calculation: Weekly pay is calculated as hours worked times pay rate. If more than 35 hours are worked, payment for the overtime hours worked is calculated at time-and-a-half."
   ]
  },
  {
   "cell_type": "markdown",
   "metadata": {},
   "source": [
    "Type Markdown and LaTeX:  𝛼2"
   ]
  },
  {
   "cell_type": "markdown",
   "metadata": {},
   "source": [
    "Input: an employee’s number, payRate and the number of workHours per week.<br\\>\n",
    "\n",
    "Process:<br\\>\n",
    "    Begin<br\\>\n",
    "        Loop1 IF payRate <=25<br\\>\n",
    "            Loop2 IF workHours per week<=60<br\\>\n",
    "                Overtime payment= payRate* (60-35) *1.5<br\\>\n",
    "                Weekly pay= payRate*35 + overtime payment<br\\>\n",
    "                Go to the output<br\\>\n",
    "            ELSE print the workHours and a reminder message, then stop<br\\>\n",
    "            EndLoop2<br\\>\n",
    "        ELSE print the payRate and a reminder message, then stop<br\\>\n",
    "        EndLoop1<br\\>\n",
    "    End<br\\>\n",
    "    \n",
    "Output: Print the employee's number and weekly pay<br\\>"
   ]
  },
  {
   "cell_type": "code",
   "execution_count": null,
   "metadata": {},
   "outputs": [],
   "source": []
  }
 ],
 "metadata": {
  "kernelspec": {
   "display_name": "Python 3",
   "language": "python",
   "name": "python3"
  },
  "language_info": {
   "codemirror_mode": {
    "name": "ipython",
    "version": 3
   },
   "file_extension": ".py",
   "mimetype": "text/x-python",
   "name": "python",
   "nbconvert_exporter": "python",
   "pygments_lexer": "ipython3",
   "version": "3.8.8"
  }
 },
 "nbformat": 4,
 "nbformat_minor": 2
}
