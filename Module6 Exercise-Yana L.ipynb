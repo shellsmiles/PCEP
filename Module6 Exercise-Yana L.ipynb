{
 "cells": [
  {
   "cell_type": "markdown",
   "metadata": {},
   "source": [
    "### Exercise 1\n",
    "Convert following decimal number to a binary number by hand:\n",
    "\n",
    "    61\n",
    "    15\n",
    "    71\n",
    "    "
   ]
  },
  {
   "cell_type": "code",
   "execution_count": 21,
   "metadata": {},
   "outputs": [
    {
     "name": "stdout",
     "output_type": "stream",
     "text": [
      "30 1\n",
      "7 1\n",
      "35 1\n"
     ]
    }
   ],
   "source": [
    "print ((61//2), (61%2)) #61\n",
    "print ((15//2), (15%2)) #15\n",
    "print ((71//2), (71%2)) #71"
   ]
  },
  {
   "cell_type": "code",
   "execution_count": 23,
   "metadata": {},
   "outputs": [
    {
     "name": "stdout",
     "output_type": "stream",
     "text": [
      "15 0\n",
      "3 1\n",
      "17 1\n"
     ]
    }
   ],
   "source": [
    "print ((30//2), (30%2) )#61\n",
    "print ((7//2), (7%2))   #15\n",
    "print ((35//2), (35%2)) #71"
   ]
  },
  {
   "cell_type": "code",
   "execution_count": 24,
   "metadata": {},
   "outputs": [
    {
     "name": "stdout",
     "output_type": "stream",
     "text": [
      "7 1\n",
      "1 1\n",
      "8 1\n"
     ]
    }
   ],
   "source": [
    "print ((15//2), (15%2) ) #61\n",
    "print ((3//2), (3%2))    #15\n",
    "print ((17//2), (17%2))  #71"
   ]
  },
  {
   "cell_type": "code",
   "execution_count": 26,
   "metadata": {},
   "outputs": [
    {
     "name": "stdout",
     "output_type": "stream",
     "text": [
      "3 1\n",
      "0 1\n",
      "4 0\n"
     ]
    }
   ],
   "source": [
    "print ((7//2), (7%2) )  #61\n",
    "print ((1//2), (1%2))   #15\n",
    "print ((8//2), (8%2))   #71"
   ]
  },
  {
   "cell_type": "code",
   "execution_count": 30,
   "metadata": {},
   "outputs": [
    {
     "name": "stdout",
     "output_type": "stream",
     "text": [
      "1 1\n",
      "15 binary number is : 0b1111\n",
      "2 0\n"
     ]
    }
   ],
   "source": [
    "print ((3//2), (3%2) )                 #61\n",
    "print (\"15 binary number is : 0b1111\") #15\n",
    "print ((4//2), (4%2))                  #71"
   ]
  },
  {
   "cell_type": "code",
   "execution_count": 31,
   "metadata": {},
   "outputs": [
    {
     "name": "stdout",
     "output_type": "stream",
     "text": [
      "0 1\n",
      "1 0\n"
     ]
    }
   ],
   "source": [
    "print ((1//2), (1%2) )       #61\n",
    "print ((2//2), (2%2) )       #71"
   ]
  },
  {
   "cell_type": "code",
   "execution_count": 32,
   "metadata": {},
   "outputs": [
    {
     "name": "stdout",
     "output_type": "stream",
     "text": [
      "61 binary number is : 0b111101\n",
      "0 1\n"
     ]
    }
   ],
   "source": [
    "print (\"61 binary number is : 0b111101\")  #61\n",
    "print ((1//2), (1%2) )                    #71"
   ]
  },
  {
   "cell_type": "code",
   "execution_count": null,
   "metadata": {},
   "outputs": [],
   "source": [
    "print (\"71 binary number is : 0b1000111\") #71"
   ]
  },
  {
   "cell_type": "code",
   "execution_count": 34,
   "metadata": {},
   "outputs": [
    {
     "name": "stdout",
     "output_type": "stream",
     "text": [
      "0b111101\n",
      "0b1111\n",
      "0b1000111\n"
     ]
    }
   ],
   "source": [
    "print (bin(61))          \n",
    "print (bin(15))\n",
    "print (bin(71))"
   ]
  },
  {
   "cell_type": "markdown",
   "metadata": {},
   "source": [
    "### Exercise 2\n",
    "When a = 61 and b = 15, what is the result of following bitwise opertion? Use inline comments to show your result in a binary number. Find your answer by hand.\n",
    "\n",
    "    a & b\n",
    "    a | b\n",
    "    a ^ b\n",
    "    a >> 2\n",
    "    "
   ]
  },
  {
   "cell_type": "code",
   "execution_count": 88,
   "metadata": {},
   "outputs": [
    {
     "name": "stdout",
     "output_type": "stream",
     "text": [
      "0b111101\n",
      "0b1111\n"
     ]
    }
   ],
   "source": [
    "# convert a in to a binary number\n",
    "\n",
    "a,b=61,15\n",
    "\n",
    "print (bin(a))\n",
    "\n",
    "# convert b in to a binary number\n",
    "\n",
    "print (bin(b))"
   ]
  },
  {
   "cell_type": "code",
   "execution_count": 89,
   "metadata": {},
   "outputs": [
    {
     "name": "stdout",
     "output_type": "stream",
     "text": [
      "True. a&b is 0b001101  \n"
     ]
    }
   ],
   "source": [
    "\n",
    "#a is     0b 111101\n",
    "#b is     0b 001111\n",
    "# a & b   0b 001101  \n",
    "\n",
    "if a&b == 0b001101  :\n",
    "    print(\"True. a&b is 0b001101  \")\n",
    "else :\n",
    "    print (\"F\")\n"
   ]
  },
  {
   "cell_type": "code",
   "execution_count": 90,
   "metadata": {},
   "outputs": [
    {
     "name": "stdout",
     "output_type": "stream",
     "text": [
      "True. a|b is 0b111111\n"
     ]
    }
   ],
   "source": [
    "\n",
    "#a is     0b 111101\n",
    "#b is     0b 001111\n",
    "# a | b   0b 111111  \n",
    "\n",
    "if a|b == 0b111111  :\n",
    "    print(\"True. a|b is 0b111111\")\n",
    "else :\n",
    "    print (\"F\")\n",
    "    "
   ]
  },
  {
   "cell_type": "code",
   "execution_count": 91,
   "metadata": {},
   "outputs": [
    {
     "name": "stdout",
     "output_type": "stream",
     "text": [
      "True. a^b is 0b110010\n"
     ]
    }
   ],
   "source": [
    "\n",
    "#a is     0b 111101\n",
    "#b is     0b 001111\n",
    "# a ^ b   0b 110010\n",
    "\n",
    "if a^b == 0b110010  :\n",
    "    print(\"True. a^b is 0b110010\")\n",
    "else :\n",
    "    print (\"F\")\n",
    "    "
   ]
  },
  {
   "cell_type": "code",
   "execution_count": 92,
   "metadata": {},
   "outputs": [
    {
     "name": "stdout",
     "output_type": "stream",
     "text": [
      "True. a>>2 is 0b001111\n"
     ]
    }
   ],
   "source": [
    "\n",
    "#a is     0b 111101\n",
    "# a >> 2  0b 001111\n",
    "\n",
    "if a>>2  == 0b001111 :\n",
    "    print(\"True. a>>2 is 0b001111\")\n",
    "else :\n",
    "    print (\"F\")\n",
    "    "
   ]
  },
  {
   "cell_type": "markdown",
   "metadata": {},
   "source": [
    "### Exercise 3\n",
    "Ask a user for a code and store that answer. \n",
    "If the answer is <b>grey</b> then print \"You found secret code.\"\n",
    "Otherwise print that the entered code is not the secret code."
   ]
  },
  {
   "cell_type": "code",
   "execution_count": 103,
   "metadata": {},
   "outputs": [
    {
     "name": "stdout",
     "output_type": "stream",
     "text": [
      "Enter a codered\n",
      "red is not the secrect code.\n"
     ]
    }
   ],
   "source": [
    "code= input(\"Enter a code\")\n",
    "\n",
    "if  code== \"grey\":\n",
    "    print (\"You found secret code.\")\n",
    "else :\n",
    "    print ( code, \"is not the secrect code.\")"
   ]
  },
  {
   "cell_type": "markdown",
   "metadata": {},
   "source": [
    "### Exercise 4\n",
    "Ask for an exam score and store that number. If the number is greater than 100, then print out 'You cannot have an exam score higher than 100'. If the number doesn't exceeed 100 but is greater than or equal to 75, then print out 'You did great on your exam!'. Otherwise if they scored lower than 75, then print out 'You need to study harder'."
   ]
  },
  {
   "cell_type": "code",
   "execution_count": 119,
   "metadata": {},
   "outputs": [],
   "source": [
    "def score (s):\n",
    "    if s >100 :\n",
    "        print (\"You cannot have an exam score higher than 100!\")\n",
    "    elif s>=75 :\n",
    "        print (\"You did great on your exam!\")\n",
    "    else  :\n",
    "        print (\"You need to study harder!\")"
   ]
  },
  {
   "cell_type": "code",
   "execution_count": 120,
   "metadata": {},
   "outputs": [
    {
     "name": "stdout",
     "output_type": "stream",
     "text": [
      "Enter the exam score120\n",
      "You cannot have an exam score higher than 100!\n"
     ]
    }
   ],
   "source": [
    "examS= float (input(\"Enter the exam score\"))\n",
    "score(examS)"
   ]
  },
  {
   "cell_type": "markdown",
   "metadata": {},
   "source": [
    "### Exercise 5\n",
    "Write a function to convert a test score to a grade where  \n",
    " - 90 - 100: A\n",
    " - 80 - 89:  B\n",
    " - 70 - 79:  C\n",
    " - 60 - 69:  D\n",
    " - < 60   :  F\n",
    " \n",
    "If a score is not between 0 and 100 then print out an error message. In the program, ask the user for a score and then call your function. "
   ]
  },
  {
   "cell_type": "code",
   "execution_count": 131,
   "metadata": {},
   "outputs": [],
   "source": [
    "# define your function\n",
    "def score_test (s):\n",
    "    if s>100 or s<0:\n",
    "        print(\"Error!\")\n",
    "    elif s<60:\n",
    "        print(\"F\")\n",
    "    elif s<=69:\n",
    "        print(\"D\")\n",
    "    elif s<=79:\n",
    "        print(\"C\")\n",
    "    elif s<=89:\n",
    "        print(\"B\")\n",
    "    else:\n",
    "        print(\"A\")"
   ]
  },
  {
   "cell_type": "code",
   "execution_count": 132,
   "metadata": {},
   "outputs": [
    {
     "name": "stdout",
     "output_type": "stream",
     "text": [
      "Please enter your test score: -9\n",
      "Error!\n"
     ]
    }
   ],
   "source": [
    "# ask the user for a score and then call your function\n",
    "score= float(input(\"Please enter your test score: \"))\n",
    "score_test(score)"
   ]
  },
  {
   "cell_type": "code",
   "execution_count": null,
   "metadata": {},
   "outputs": [],
   "source": []
  }
 ],
 "metadata": {
  "kernelspec": {
   "display_name": "Python 3",
   "language": "python",
   "name": "python3"
  },
  "language_info": {
   "codemirror_mode": {
    "name": "ipython",
    "version": 3
   },
   "file_extension": ".py",
   "mimetype": "text/x-python",
   "name": "python",
   "nbconvert_exporter": "python",
   "pygments_lexer": "ipython3",
   "version": "3.8.8"
  }
 },
 "nbformat": 4,
 "nbformat_minor": 4
}
