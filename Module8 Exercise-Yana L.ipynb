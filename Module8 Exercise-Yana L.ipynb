{
 "cells": [
  {
   "cell_type": "markdown",
   "metadata": {},
   "source": [
    "### Exercise 1\n",
    "Create a multiplication table from 1 to 10"
   ]
  },
  {
   "cell_type": "code",
   "execution_count": 117,
   "metadata": {},
   "outputs": [],
   "source": [
    "#multiplier= []\n",
    "#numbers=[]\n",
    "\n",
    "\n",
    "#for e in range (1,11):\n",
    "#    for f in range (12):\n",
    "#        if f==0:\n",
    "#            numbers.append(e)\n",
    "#        elif f==11:\n",
    "#            numbers.extend (\"\\n\")           # need more thinking that how to insert a new line in a list\n",
    "#        else:\n",
    "#            numbers.append (e*f) \n",
    "        \n",
    "        \n",
    "#print(numbers)\n",
    "\n",
    "        \n",
    "\n"
   ]
  },
  {
   "cell_type": "code",
   "execution_count": 118,
   "metadata": {},
   "outputs": [
    {
     "name": "stdout",
     "output_type": "stream",
     "text": [
      "  *     1     2     3     4     5     6     7     8     9     10  \n",
      "  2     2     4     6     8     10    12    14    16    18    20  \n",
      "  3     3     6     9     12    15    18    21    24    27    30  \n",
      "  4     4     8     12    16    20    24    28    32    36    40  \n",
      "  5     5     10    15    20    25    30    35    40    45    50  \n",
      "  6     6     12    18    24    30    36    42    48    54    60  \n",
      "  7     7     14    21    28    35    42    49    56    63    70  \n",
      "  8     8     16    24    32    40    48    56    64    72    80  \n",
      "  9     9     18    27    36    45    54    63    72    81    90  \n",
      "  10    10    20    30    40    50    60    70    80    90   100  \n",
      "\n"
     ]
    }
   ],
   "source": [
    "\n",
    "numbers= \"\"\n",
    "    \n",
    "for e in range (1,11):\n",
    "    for f in range (12):\n",
    "        if e==1 and f==0:\n",
    "            numbers+= \"*\".center (6)\n",
    "        elif f==0:\n",
    "            numbers+= str(e).center (6)\n",
    "        elif f==11:\n",
    "            numbers+= \"\\n\"\n",
    "        else:\n",
    "            numbers+= str (e*f) .center(6)  \n",
    "print(numbers)"
   ]
  },
  {
   "cell_type": "markdown",
   "metadata": {},
   "source": [
    "### Exercise 2\n",
    "Write a program to find the Fibonacci numbers where each number is the sum of the two preceding ones, starting from 0 and 1. \n",
    "\n",
    "    e.g.\n",
    "    0, 1, 1, 2, 3, 5, 8, ...\n",
    "    \n",
    "Ask a user to enter a number of sequence. Generate the Fibonacci numbers in to a list. Then, print out the list.  \n",
    "\n",
    "The output should look something like this:\n",
    "\n",
    "    How many Fibonacci numbers would you like to generate? 10    \n",
    "    10 Fibonacci numbers are [0, 1, 1, 2, 3, 5, 8, 13, 21, 34]."
   ]
  },
  {
   "cell_type": "code",
   "execution_count": 122,
   "metadata": {},
   "outputs": [
    {
     "name": "stdout",
     "output_type": "stream",
     "text": [
      "How many Fibonacci numbers would you like to generate?5\n"
     ]
    },
    {
     "ename": "IndexError",
     "evalue": "list index out of range",
     "output_type": "error",
     "traceback": [
      "\u001b[0;31m---------------------------------------------------------------------------\u001b[0m",
      "\u001b[0;31mIndexError\u001b[0m                                Traceback (most recent call last)",
      "\u001b[0;32m<ipython-input-122-fa09548c6f80>\u001b[0m in \u001b[0;36m<module>\u001b[0;34m\u001b[0m\n\u001b[1;32m      9\u001b[0m         \u001b[0mnumbers\u001b[0m\u001b[0;34m.\u001b[0m\u001b[0mappend\u001b[0m\u001b[0;34m(\u001b[0m\u001b[0;36m1\u001b[0m\u001b[0;34m)\u001b[0m\u001b[0;34m\u001b[0m\u001b[0;34m\u001b[0m\u001b[0m\n\u001b[1;32m     10\u001b[0m     \u001b[0;32melse\u001b[0m\u001b[0;34m:\u001b[0m\u001b[0;34m\u001b[0m\u001b[0;34m\u001b[0m\u001b[0m\n\u001b[0;32m---> 11\u001b[0;31m         \u001b[0mappending\u001b[0m\u001b[0;34m=\u001b[0m \u001b[0mnumbers\u001b[0m\u001b[0;34m[\u001b[0m\u001b[0mi\u001b[0m\u001b[0;34m-\u001b[0m\u001b[0;36m1\u001b[0m\u001b[0;34m]\u001b[0m\u001b[0;34m+\u001b[0m\u001b[0mnumbers\u001b[0m\u001b[0;34m[\u001b[0m\u001b[0mi\u001b[0m\u001b[0;34m-\u001b[0m\u001b[0;36m2\u001b[0m\u001b[0;34m]\u001b[0m\u001b[0;34m\u001b[0m\u001b[0;34m\u001b[0m\u001b[0m\n\u001b[0m\u001b[1;32m     12\u001b[0m         \u001b[0mnumbers\u001b[0m\u001b[0;34m.\u001b[0m\u001b[0mappend\u001b[0m\u001b[0;34m(\u001b[0m\u001b[0mappending\u001b[0m\u001b[0;34m)\u001b[0m\u001b[0;34m\u001b[0m\u001b[0;34m\u001b[0m\u001b[0m\n\u001b[1;32m     13\u001b[0m \u001b[0mprint\u001b[0m\u001b[0;34m(\u001b[0m\u001b[0mnumbers\u001b[0m\u001b[0;34m)\u001b[0m\u001b[0;34m\u001b[0m\u001b[0;34m\u001b[0m\u001b[0m\n",
      "\u001b[0;31mIndexError\u001b[0m: list index out of range"
     ]
    }
   ],
   "source": [
    "quantity=int(input(\"How many Fibonacci numbers would you like to generate?\"))\n",
    "\n",
    "numbers=[]\n",
    "for i in range(quantity):\n",
    "    if i==0:\n",
    "        numbers.append(0)\n",
    "    elif i==1:\n",
    "        numbers.append(1)\n",
    "    else:\n",
    "        appending= numbers[i-1]+numbers[i-2]\n",
    "        numbers.append(appending)\n",
    "print(numbers)\n",
    "    "
   ]
  },
  {
   "cell_type": "code",
   "execution_count": 111,
   "metadata": {},
   "outputs": [
    {
     "name": "stdout",
     "output_type": "stream",
     "text": [
      "3\n",
      "None\n",
      "[1, 2, 3, 4, 5, 3]\n"
     ]
    }
   ],
   "source": [
    "#list=[1,2,3,4,5]\n",
    "#addition=list[1]+list[0]\n",
    "#print(addition)\n",
    "#print(list.append(addition))\n",
    "#print(list)"
   ]
  },
  {
   "cell_type": "code",
   "execution_count": null,
   "metadata": {},
   "outputs": [],
   "source": []
  }
 ],
 "metadata": {
  "kernelspec": {
   "display_name": "Python 3",
   "language": "python",
   "name": "python3"
  },
  "language_info": {
   "codemirror_mode": {
    "name": "ipython",
    "version": 3
   },
   "file_extension": ".py",
   "mimetype": "text/x-python",
   "name": "python",
   "nbconvert_exporter": "python",
   "pygments_lexer": "ipython3",
   "version": "3.8.8"
  }
 },
 "nbformat": 4,
 "nbformat_minor": 4
}
