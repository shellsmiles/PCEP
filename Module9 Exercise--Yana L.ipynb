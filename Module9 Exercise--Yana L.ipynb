{
 "cells": [
  {
   "cell_type": "markdown",
   "metadata": {},
   "source": [
    "### Exercise 1. \n",
    "Create a dictionary named pairs with key value pairs of:\n",
    "    - 'hello' and 'fire', \n",
    "    - 3 and 'seven', \n",
    "    - 'strong' and 45. \n",
    "\n",
    "Then, print out the dictionary."
   ]
  },
  {
   "cell_type": "code",
   "execution_count": 26,
   "metadata": {},
   "outputs": [
    {
     "name": "stdout",
     "output_type": "stream",
     "text": [
      "{'hello': 'fire', 3: 'seven', 'strong': '45'}\n"
     ]
    }
   ],
   "source": [
    "pairs= {'hello':'fire',3:'seven','strong':'45'}\n",
    "print(pairs)"
   ]
  },
  {
   "cell_type": "markdown",
   "metadata": {},
   "source": [
    "### Exercise 2. \n",
    "Add 'welcome' and 56 pair into <b><i>pairs</i></b> dictionary from exercise 1. Then, print out the dictionary. "
   ]
  },
  {
   "cell_type": "code",
   "execution_count": 27,
   "metadata": {},
   "outputs": [
    {
     "name": "stdout",
     "output_type": "stream",
     "text": [
      "{'hello': 'fire', 3: 'seven', 'strong': '45', 'welcome': 56}\n"
     ]
    }
   ],
   "source": [
    "pairs['welcome']=56\n",
    "print(pairs)"
   ]
  },
  {
   "cell_type": "markdown",
   "metadata": {},
   "source": [
    "### Exercise 3. \n",
    "Delete one item from <b><i>pairs</i></b> dictionary. Then, print deleted item and the dictionary."
   ]
  },
  {
   "cell_type": "code",
   "execution_count": 28,
   "metadata": {},
   "outputs": [
    {
     "name": "stdout",
     "output_type": "stream",
     "text": [
      "('welcome', 56)\n",
      "{'hello': 'fire', 3: 'seven', 'strong': '45'}\n"
     ]
    }
   ],
   "source": [
    "print(pairs.popitem())\n",
    "print(pairs)"
   ]
  },
  {
   "cell_type": "markdown",
   "metadata": {},
   "source": [
    "### Exercise 4. \n",
    "Print the value of an item where key is 3 in <b><i>pairs</i></b> dicitonary"
   ]
  },
  {
   "cell_type": "code",
   "execution_count": 29,
   "metadata": {},
   "outputs": [
    {
     "name": "stdout",
     "output_type": "stream",
     "text": [
      "seven\n",
      "{'hello': 'fire', 3: 'seven', 'strong': '45'}\n"
     ]
    }
   ],
   "source": [
    "print(pairs[3])\n",
    "print(pairs)"
   ]
  },
  {
   "cell_type": "markdown",
   "metadata": {},
   "source": [
    "### Exercise 5. \n",
    "Try to find out if the key called 'hello' exist in <b><i>pairs</i></b> dictionary. Print 'key is found' message if the key exists otherwise print 'key is not there'."
   ]
  },
  {
   "cell_type": "code",
   "execution_count": 44,
   "metadata": {},
   "outputs": [
    {
     "name": "stdout",
     "output_type": "stream",
     "text": [
      "{'hello': 'fire', 3: 'seven', 'strong': '45'}\n"
     ]
    }
   ],
   "source": [
    "print(pairs)"
   ]
  },
  {
   "cell_type": "code",
   "execution_count": 64,
   "metadata": {},
   "outputs": [
    {
     "name": "stdout",
     "output_type": "stream",
     "text": [
      "key is found\n"
     ]
    }
   ],
   "source": [
    "\n",
    "if \"hello\" in pairs :\n",
    "    print(\"key is found\")\n",
    "else:\n",
    "    print(\"key is not there\")"
   ]
  },
  {
   "cell_type": "markdown",
   "metadata": {},
   "source": [
    "### Exercise 6. \n",
    "Create a Test Scores program that gets the name of students and test score from a user. Then, generate a list of students who passed and a list of students who failed where passing test score is 60 or above. "
   ]
  },
  {
   "cell_type": "code",
   "execution_count": 91,
   "metadata": {},
   "outputs": [
    {
     "name": "stdout",
     "output_type": "stream",
     "text": [
      "Enter a student name:aa\n",
      "Enter a score:89\n",
      "Do you want to continue? (y/n) y\n",
      "Enter a student name:bb\n",
      "Enter a score:59\n",
      "Do you want to continue? (y/n) y\n",
      "Enter a student name:cc\n",
      "Enter a score:90\n",
      "Do you want to continue? (y/n) n\n",
      "{'aa': 89.0, 'bb': 59.0, 'cc': 90.0}\n",
      "Passed students are: ['aa', 'cc']\n",
      "Failed Students are: ['bb']\n"
     ]
    }
   ],
   "source": [
    "students={}\n",
    "passed=[]\n",
    "failed=[]\n",
    "answer= True\n",
    "\n",
    "\n",
    "while answer== True :\n",
    "    name= input (\"Enter a student name:\")\n",
    "    score= input (\"Enter a score:\")\n",
    "    students[name]= float(score)    \n",
    "    answer= input(\"Do you want to continue? (y/n) \")=='y'\n",
    "    \n",
    "        \n",
    "for name,score in students.items():\n",
    "    if score>= 60 :\n",
    "        passed.append(name)\n",
    "    else :\n",
    "        failed.append(name)        \n",
    "\n",
    "        \n",
    "print(students)\n",
    "print(f\"Passed students are: {passed}\")\n",
    "print(f\"Failed Students are: {failed}\")"
   ]
  },
  {
   "cell_type": "markdown",
   "metadata": {},
   "source": [
    "###### "
   ]
  },
  {
   "cell_type": "markdown",
   "metadata": {},
   "source": [
    "### Exercise 7. \n",
    "\n",
    "Create a Word Counter program that gets a string of text from a user and then counts the number of times a word occrs in the string. \n",
    "\n",
    "The output should look something like this:\n",
    "\n",
    "    The Word Counter Program\n",
    "    \n",
    "    Enter a text string: \n",
    "    Humpty Dumpty sat on a wall, Humpty Dumpty had a great fall. All the king’s horses and all the king’s men couldn’t put Humpty together again.\n",
    "\n",
    "    a : 2\n",
    "    again : 1\n",
    "    all : 2\n",
    "    and : 1\n",
    "    couldn’t : 1\n",
    "    dumpty : 2\n",
    "    fall : 1\n",
    "    great : 1\n",
    "    had : 1\n",
    "    horses : 1\n",
    "    humpty : 3\n",
    "    king’s : 2\n",
    "    men : 1\n",
    "    on : 1\n",
    "    put : 1\n",
    "    sat : 1\n",
    "    the : 2\n",
    "    together : 1\n",
    "    wall : 1\n",
    "\n",
    "    There were total 26 words in the text string   "
   ]
  },
  {
   "cell_type": "code",
   "execution_count": 136,
   "metadata": {},
   "outputs": [
    {
     "name": "stdout",
     "output_type": "stream",
     "text": [
      "The Word Counter Program\n",
      "Enter a text string: Humpty Dumpty sat on a wall, Humpty Dumpty had a great fall. All the king’s horses and all the king’s men couldn’t put Humpty together again.\n",
      "['a', 'again', 'all', 'and', 'couldn’t', 'dumpty', 'fall', 'great', 'had', 'horses', 'humpty', 'king’s', 'men', 'on', 'put', 'sat', 'the', 'together', 'wall']\n"
     ]
    },
    {
     "ename": "TypeError",
     "evalue": "list indices must be integers or slices, not str",
     "output_type": "error",
     "traceback": [
      "\u001b[0;31m---------------------------------------------------------------------------\u001b[0m",
      "\u001b[0;31mTypeError\u001b[0m                                 Traceback (most recent call last)",
      "\u001b[0;32m<ipython-input-136-0dabc8114cf2>\u001b[0m in \u001b[0;36m<module>\u001b[0;34m\u001b[0m\n\u001b[1;32m     36\u001b[0m \u001b[0;34m\u001b[0m\u001b[0m\n\u001b[1;32m     37\u001b[0m \u001b[0mcountN\u001b[0m \u001b[0;34m=\u001b[0m \u001b[0mcountNumb\u001b[0m\u001b[0;34m(\u001b[0m\u001b[0mwords\u001b[0m\u001b[0;34m)\u001b[0m\u001b[0;34m\u001b[0m\u001b[0;34m\u001b[0m\u001b[0m\n\u001b[0;32m---> 38\u001b[0;31m \u001b[0mtotalNumb\u001b[0m \u001b[0;34m=\u001b[0m \u001b[0mshow\u001b[0m\u001b[0;34m(\u001b[0m\u001b[0mcountN\u001b[0m\u001b[0;34m)\u001b[0m\u001b[0;34m\u001b[0m\u001b[0;34m\u001b[0m\u001b[0m\n\u001b[0m\u001b[1;32m     39\u001b[0m \u001b[0mprint\u001b[0m\u001b[0;34m(\u001b[0m\u001b[0;34mf\"There were total {totalNumb} words in the text string\"\u001b[0m\u001b[0;34m)\u001b[0m\u001b[0;34m\u001b[0m\u001b[0;34m\u001b[0m\u001b[0m\n\u001b[1;32m     40\u001b[0m \u001b[0;34m\u001b[0m\u001b[0m\n",
      "\u001b[0;32m<ipython-input-136-0dabc8114cf2>\u001b[0m in \u001b[0;36mshow\u001b[0;34m(countN)\u001b[0m\n\u001b[1;32m     18\u001b[0m     \u001b[0mtotal\u001b[0m\u001b[0;34m=\u001b[0m \u001b[0;36m0\u001b[0m\u001b[0;34m\u001b[0m\u001b[0;34m\u001b[0m\u001b[0m\n\u001b[1;32m     19\u001b[0m     \u001b[0;32mfor\u001b[0m \u001b[0mitem\u001b[0m \u001b[0;32min\u001b[0m \u001b[0mkeyList\u001b[0m\u001b[0;34m:\u001b[0m\u001b[0;34m\u001b[0m\u001b[0;34m\u001b[0m\u001b[0m\n\u001b[0;32m---> 20\u001b[0;31m         \u001b[0mprint\u001b[0m \u001b[0;34m(\u001b[0m\u001b[0;34mf\"{item}: {keyList[item]}\"\u001b[0m\u001b[0;34m)\u001b[0m\u001b[0;34m\u001b[0m\u001b[0;34m\u001b[0m\u001b[0m\n\u001b[0m\u001b[1;32m     21\u001b[0m         \u001b[0mtotal\u001b[0m\u001b[0;34m+=\u001b[0m \u001b[0mkeyList\u001b[0m\u001b[0;34m[\u001b[0m\u001b[0mitem\u001b[0m\u001b[0;34m]\u001b[0m\u001b[0;34m\u001b[0m\u001b[0;34m\u001b[0m\u001b[0m\n\u001b[1;32m     22\u001b[0m     \u001b[0;32mreturn\u001b[0m \u001b[0mtotal\u001b[0m\u001b[0;34m\u001b[0m\u001b[0;34m\u001b[0m\u001b[0m\n",
      "\u001b[0;31mTypeError\u001b[0m: list indices must be integers or slices, not str"
     ]
    }
   ],
   "source": [
    "def countNumb(wordList):\n",
    "    countN= {}\n",
    "    for item in wordList:\n",
    "        #print(f\"item is {item}\")\n",
    "        if item in countN: \n",
    "            countN[item]+=1\n",
    "        else:\n",
    "            countN[item]=1\n",
    "    return countN\n",
    "\n",
    "\n",
    "def show(countN):\n",
    "    #print(countN)\n",
    "    keyList= list(countN.keys())\n",
    "    #keyList= key.sort()\n",
    "    keyList.sort(key=str.lower) \n",
    "    print(keyList)\n",
    "    total= 0\n",
    "    for item in keyList:\n",
    "        print (f\"{item}: {keyList[item]}\")\n",
    "        total+= keyList[item]\n",
    "    return total \n",
    "\n",
    "\n",
    "\n",
    "\n",
    "\n",
    "print(\"The Word Counter Program\")\n",
    "\n",
    "enter= input (\"Enter a text string: \")\n",
    "words= enter.lower()\n",
    "words= words.replace(\",\", \"\")\n",
    "words= words.replace(\".\", \"\")\n",
    "words= words. split(\" \")\n",
    "#print(words)\n",
    "\n",
    "countN = countNumb(words)\n",
    "totalNumb = show(countN)\n",
    "print(f\"There were total {totalNumb} words in the text string\")\n",
    "\n",
    "\n",
    "\n"
   ]
  },
  {
   "cell_type": "code",
   "execution_count": 137,
   "metadata": {
    "scrolled": true
   },
   "outputs": [
    {
     "name": "stdout",
     "output_type": "stream",
     "text": [
      "The Word Counter Program\n",
      "Enter a text string: Humpty Dumpty sat on a wall, Humpty Dumpty had a great fall. All the king’s horses and all the king’s men couldn’t put Humpty together again.\n",
      "humpty: 1\n",
      "dumpty: 1\n",
      "sat: 1\n",
      "on: 1\n",
      "a: 1\n",
      "wall: 1\n",
      "humpty: 2\n",
      "dumpty: 2\n",
      "had: 1\n",
      "a: 2\n",
      "great: 1\n",
      "fall: 1\n",
      "all: 1\n",
      "the: 1\n",
      "king’s: 1\n",
      "horses: 1\n",
      "and: 1\n",
      "all: 2\n",
      "the: 2\n",
      "king’s: 2\n",
      "men: 1\n",
      "couldn’t: 1\n",
      "put: 1\n",
      "humpty: 3\n",
      "together: 1\n",
      "again: 1\n",
      "34\n",
      "There were total 34 words in the text string\n"
     ]
    }
   ],
   "source": [
    "def countN(wordList):\n",
    "    countN= {}\n",
    "    total=0\n",
    "    for item in wordList:\n",
    "        #print(f\"item is {item}\")\n",
    "        \n",
    "        if item in countN: \n",
    "            countN[item]+=1\n",
    "        else:\n",
    "            countN[item]=1\n",
    "            \n",
    "        key= list(countN.keys())\n",
    "        key.sort()\n",
    "        print(f\"{item}: {countN[item]}\")\n",
    "        total+= countN[item]\n",
    "   \n",
    "    print(total)\n",
    "    return total\n",
    "    \n",
    "\n",
    "print(\"The Word Counter Program\")\n",
    "\n",
    "enter= input (\"Enter a text string: \")\n",
    "words= enter.lower()\n",
    "words= words.replace(\",\", \"\")\n",
    "words= words.replace(\".\", \"\")\n",
    "words= words. split(\" \")\n",
    "#print(words)\n",
    "total= countN(words)\n",
    "print(f\"There were total {total} words in the text string\")\n",
    "\n",
    "\n"
   ]
  },
  {
   "cell_type": "code",
   "execution_count": null,
   "metadata": {},
   "outputs": [],
   "source": []
  },
  {
   "cell_type": "code",
   "execution_count": null,
   "metadata": {},
   "outputs": [],
   "source": []
  }
 ],
 "metadata": {
  "kernelspec": {
   "display_name": "Python 3",
   "language": "python",
   "name": "python3"
  },
  "language_info": {
   "codemirror_mode": {
    "name": "ipython",
    "version": 3
   },
   "file_extension": ".py",
   "mimetype": "text/x-python",
   "name": "python",
   "nbconvert_exporter": "python",
   "pygments_lexer": "ipython3",
   "version": "3.8.8"
  }
 },
 "nbformat": 4,
 "nbformat_minor": 4
}
